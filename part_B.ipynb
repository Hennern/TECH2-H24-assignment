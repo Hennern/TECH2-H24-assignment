{
 "cells": [
  {
   "cell_type": "markdown",
   "metadata": {},
   "source": [
    "# TECH 2 mandatory assignment - Part B\n",
    "\n",
    "Write your solution for Part B in this notebook, "
   ]
  },
  {
   "cell_type": "code",
   "execution_count": 48,
   "metadata": {},
   "outputs": [],
   "source": [
    "import csv\n",
    "\n",
    "f = open('data.csv','r')\n",
    "\n",
    "coloumn_1 = [ ]\n",
    "\n",
    "coloumn_2 = [ ]\n",
    "\n",
    "coloumn_3 = [ ]\n",
    "\n",
    "read = csv.reader(f)\n",
    "\n",
    "for row in read:\n",
    "    if row and row[0] != '' and row[1] != '' and row[2] != '':\n",
    "        coloumn_1.append(float(row[0]))\n",
    "        coloumn_2.append(float(row[1]))\n",
    "        coloumn_3.append(float(row[2]))\n",
    "\n",
    "f.close()\n",
    "    \n"
   ]
  },
  {
   "cell_type": "code",
   "execution_count": null,
   "metadata": {},
   "outputs": [],
   "source": [
    "#TIMEIT USING ONLY FOR LOOPS"
   ]
  },
  {
   "cell_type": "code",
   "execution_count": 50,
   "metadata": {},
   "outputs": [
    {
     "name": "stdout",
     "output_type": "stream",
     "text": [
      "820 μs ± 80.6 μs per loop (mean ± std. dev. of 7 runs, 1,000 loops each)\n"
     ]
    }
   ],
   "source": [
    "#Coloumn 1\n",
    "\n",
    "import math\n",
    "\n",
    "def std_loops(x):\n",
    "    \n",
    "    N = len(x)\n",
    "    \n",
    "    tot_sum = 0\n",
    "    \n",
    "    for num1 in x:\n",
    "        \n",
    "        tot_sum += num1\n",
    "    \n",
    "    mean1 = tot_sum / N\n",
    "    \n",
    "\n",
    "    emp_list = [ ]\n",
    "\n",
    "    for num2 in x:\n",
    "        sqr1 = num2**2\n",
    "        \n",
    "        emp_list.append(sqr1)\n",
    "        \n",
    "        sum_sqr = 0\n",
    "        for num3 in emp_list:\n",
    "            \n",
    "            sum_sqr += num3\n",
    "    s = sum_sqr / N\n",
    "\n",
    "    Std_sqr = s - (mean1**2)\n",
    "    \n",
    "    from math import sqrt\n",
    "    Std = sqrt(Std_sqr)\n",
    "    \n",
    "    return Std\n",
    "\n",
    "%timeit std_loops(coloumn_1)"
   ]
  },
  {
   "cell_type": "code",
   "execution_count": 52,
   "metadata": {},
   "outputs": [
    {
     "name": "stdout",
     "output_type": "stream",
     "text": [
      "969 μs ± 12.1 μs per loop (mean ± std. dev. of 7 runs, 1,000 loops each)\n"
     ]
    }
   ],
   "source": [
    "#Coloumn 2\n",
    "\n",
    "import math\n",
    "\n",
    "def std_loops(x):\n",
    "    \n",
    "    N = len(x)\n",
    "    \n",
    "    tot_sum = 0\n",
    "    \n",
    "    for num1 in x:\n",
    "        \n",
    "        tot_sum += num1\n",
    "    \n",
    "    mean1 = tot_sum / N\n",
    "    \n",
    "\n",
    "    emp_list = [ ]\n",
    "\n",
    "    for num2 in x:\n",
    "        sqr1 = num2**2\n",
    "        \n",
    "        emp_list.append(sqr1)\n",
    "        \n",
    "        sum_sqr = 0\n",
    "        for num3 in emp_list:\n",
    "            \n",
    "            sum_sqr += num3\n",
    "    s = sum_sqr / N\n",
    "\n",
    "    Std_sqr = s - (mean1**2)\n",
    "    \n",
    "    from math import sqrt\n",
    "    Std = sqrt(Std_sqr)\n",
    "    \n",
    "    return Std\n",
    "\n",
    "%timeit std_loops(coloumn_2)\n"
   ]
  },
  {
   "cell_type": "code",
   "execution_count": 55,
   "metadata": {},
   "outputs": [
    {
     "name": "stdout",
     "output_type": "stream",
     "text": [
      "928 μs ± 60.7 μs per loop (mean ± std. dev. of 7 runs, 1,000 loops each)\n"
     ]
    }
   ],
   "source": [
    "#Coloumn 3\n",
    "\n",
    "import math\n",
    "\n",
    "def std_loops(x):\n",
    "    \n",
    "    N = len(x)\n",
    "    \n",
    "    tot_sum = 0\n",
    "    \n",
    "    for num1 in x:\n",
    "        \n",
    "        tot_sum += num1\n",
    "    \n",
    "    mean1 = tot_sum / N\n",
    "    \n",
    "\n",
    "    emp_list = [ ]\n",
    "\n",
    "    for num2 in x:\n",
    "        sqr1 = num2**2\n",
    "        \n",
    "        emp_list.append(sqr1)\n",
    "        \n",
    "        sum_sqr = 0\n",
    "        for num3 in emp_list:\n",
    "            \n",
    "            sum_sqr += num3\n",
    "    s = sum_sqr / N\n",
    "\n",
    "    Std_sqr = s - (mean1**2)\n",
    "    \n",
    "    from math import sqrt\n",
    "    Std = sqrt(Std_sqr)\n",
    "    \n",
    "    return Std\n",
    "\n",
    "%timeit std_loops(coloumn_3)"
   ]
  },
  {
   "cell_type": "code",
   "execution_count": null,
   "metadata": {},
   "outputs": [],
   "source": [
    "#RESULTS:\n",
    "#Coloumn 1 used 820 μs ± 80.6 μs per loop\n",
    "#COloumn 2 used 969 μs ± 12.1 μs per loop\n",
    "#COloumn 3 used 928 μs ± 60.7 μs per loop "
   ]
  },
  {
   "cell_type": "code",
   "execution_count": null,
   "metadata": {},
   "outputs": [],
   "source": [
    "#TIMEIT USING LEN AND SUM FUNCTION"
   ]
  },
  {
   "cell_type": "code",
   "execution_count": 57,
   "metadata": {},
   "outputs": [
    {
     "name": "stdout",
     "output_type": "stream",
     "text": [
      "92.7 μs ± 1.69 μs per loop (mean ± std. dev. of 7 runs, 10,000 loops each)\n"
     ]
    }
   ],
   "source": [
    "def std_builtin(x):\n",
    "    \n",
    "    N = len(x)\n",
    "\n",
    "\n",
    "    mean2 = (1/N) * sum(x)\n",
    "\n",
    "\n",
    "    sqr_lst = [ ]\n",
    "\n",
    "\n",
    "    for i in x:\n",
    "        sqr = (i**2)\n",
    "    \n",
    "        sqr_lst.append(sqr)\n",
    "   \n",
    "\n",
    "    S = (1/N) * sum(sqr_lst)\n",
    "\n",
    "\n",
    "    Sd_sqr = S - (mean2**2)\n",
    "\n",
    "    from math import sqrt\n",
    "\n",
    "    Sd = sqrt(Sd_sqr)\n",
    " \n",
    "    return Sd\n",
    "\n",
    "%timeit std_builtin(coloumn_1)"
   ]
  },
  {
   "cell_type": "code",
   "execution_count": 59,
   "metadata": {},
   "outputs": [
    {
     "name": "stdout",
     "output_type": "stream",
     "text": [
      "93.8 μs ± 1.14 μs per loop (mean ± std. dev. of 7 runs, 10,000 loops each)\n"
     ]
    }
   ],
   "source": [
    "def std_builtin(x):\n",
    "    \n",
    "    N = len(x)\n",
    "\n",
    "\n",
    "    mean2 = (1/N) * sum(x)\n",
    "\n",
    "\n",
    "    sqr_lst = [ ]\n",
    "\n",
    "\n",
    "    for i in x:\n",
    "        sqr = (i**2)\n",
    "    \n",
    "        sqr_lst.append(sqr)\n",
    "   \n",
    "\n",
    "    S = (1/N) * sum(sqr_lst)\n",
    "\n",
    "\n",
    "    Sd_sqr = S - (mean2**2)\n",
    "\n",
    "    from math import sqrt\n",
    "\n",
    "    Sd = sqrt(Sd_sqr)\n",
    " \n",
    "    return Sd\n",
    "\n",
    "%timeit std_builtin(coloumn_2)"
   ]
  },
  {
   "cell_type": "code",
   "execution_count": 61,
   "metadata": {},
   "outputs": [
    {
     "name": "stdout",
     "output_type": "stream",
     "text": [
      "93.5 μs ± 1.06 μs per loop (mean ± std. dev. of 7 runs, 10,000 loops each)\n"
     ]
    }
   ],
   "source": [
    "def std_builtin(x):\n",
    "    \n",
    "    N = len(x)\n",
    "\n",
    "\n",
    "    mean2 = (1/N) * sum(x)\n",
    "\n",
    "\n",
    "    sqr_lst = [ ]\n",
    "\n",
    "\n",
    "    for i in x:\n",
    "        sqr = (i**2)\n",
    "    \n",
    "        sqr_lst.append(sqr)\n",
    "   \n",
    "\n",
    "    S = (1/N) * sum(sqr_lst)\n",
    "\n",
    "\n",
    "    Sd_sqr = S - (mean2**2)\n",
    "\n",
    "    from math import sqrt\n",
    "\n",
    "    Sd = sqrt(Sd_sqr)\n",
    " \n",
    "    return Sd\n",
    "\n",
    "%timeit std_builtin(coloumn_3)"
   ]
  },
  {
   "cell_type": "code",
   "execution_count": null,
   "metadata": {},
   "outputs": [],
   "source": [
    "#RESULTS\n",
    "#Coloumn 1 used 92.7 μs ± 1.69 μs per loop\n",
    "#COloumn 2 used 93.8 μs ± 1.14 μs per loop\n",
    "#COloumn 3 used 93.5 μs ± 1.06 μs per loop"
   ]
  },
  {
   "cell_type": "code",
   "execution_count": 67,
   "metadata": {},
   "outputs": [
    {
     "name": "stdout",
     "output_type": "stream",
     "text": [
      "111 μs ± 1.52 μs per loop (mean ± std. dev. of 7 runs, 10,000 loops each)\n"
     ]
    }
   ],
   "source": [
    "#TIMEIT USING STD FROM NUMPY\n",
    "import numpy \n",
    "\n",
    "from numpy import std\n",
    "\n",
    "def std_numpy(x):\n",
    "  \n",
    "    std(x)\n",
    "    \n",
    "    return std(x)\n",
    "\n",
    "%timeit std_numpy(coloumn_1)"
   ]
  },
  {
   "cell_type": "code",
   "execution_count": 68,
   "metadata": {},
   "outputs": [
    {
     "name": "stdout",
     "output_type": "stream",
     "text": [
      "110 μs ± 1.71 μs per loop (mean ± std. dev. of 7 runs, 10,000 loops each)\n"
     ]
    }
   ],
   "source": [
    "import numpy \n",
    "\n",
    "from numpy import std\n",
    "\n",
    "def std_numpy(x):\n",
    "  \n",
    "    std(x)\n",
    "    \n",
    "    return std(x)\n",
    "\n",
    "%timeit std_numpy(coloumn_2)"
   ]
  },
  {
   "cell_type": "code",
   "execution_count": 71,
   "metadata": {},
   "outputs": [
    {
     "name": "stdout",
     "output_type": "stream",
     "text": [
      "111 μs ± 1.05 μs per loop (mean ± std. dev. of 7 runs, 10,000 loops each)\n"
     ]
    }
   ],
   "source": [
    "import numpy \n",
    "\n",
    "from numpy import std\n",
    "\n",
    "def std_numpy(x):\n",
    "  \n",
    "    std(x)\n",
    "    \n",
    "    return std(x)\n",
    "\n",
    "%timeit std_numpy(coloumn_3)"
   ]
  },
  {
   "cell_type": "code",
   "execution_count": 73,
   "metadata": {},
   "outputs": [],
   "source": [
    "#RESULTS\n",
    "#Coloumn 1 used 111 μs ± 1.52 μs per loop\n",
    "#COloumn 2 used 110 μs ± 1.71 μs per loop\n",
    "#COloumn 3 used 111 μs ± 1.05 μs per loop"
   ]
  },
  {
   "cell_type": "code",
   "execution_count": 75,
   "metadata": {},
   "outputs": [],
   "source": [
    "#CONCLUSION:\n",
    "\n",
    "#FROM THE RESULTS THE SECOND METHOD IS THE FASTEST"
   ]
  }
 ],
 "metadata": {
  "kernelspec": {
   "display_name": "Python 3 (ipykernel)",
   "language": "python",
   "name": "python3"
  },
  "language_info": {
   "codemirror_mode": {
    "name": "ipython",
    "version": 3
   },
   "file_extension": ".py",
   "mimetype": "text/x-python",
   "name": "python",
   "nbconvert_exporter": "python",
   "pygments_lexer": "ipython3",
   "version": "3.12.4"
  }
 },
 "nbformat": 4,
 "nbformat_minor": 4
}
